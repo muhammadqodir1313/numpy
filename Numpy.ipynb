{
  "nbformat": 4,
  "nbformat_minor": 0,
  "metadata": {
    "colab": {
      "provenance": [],
      "authorship_tag": "ABX9TyP47zjqUM/YGDQW6VPjYjHD",
      "include_colab_link": true
    },
    "kernelspec": {
      "name": "python3",
      "display_name": "Python 3"
    },
    "language_info": {
      "name": "python"
    }
  },
  "cells": [
    {
      "cell_type": "markdown",
      "metadata": {
        "id": "view-in-github",
        "colab_type": "text"
      },
      "source": [
        "<a href=\"https://colab.research.google.com/github/muhammadqodir1313/numpy/blob/main/Numpy.ipynb\" target=\"_parent\"><img src=\"https://colab.research.google.com/assets/colab-badge.svg\" alt=\"Open In Colab\"/></a>"
      ]
    },
    {
      "cell_type": "code",
      "execution_count": 6,
      "metadata": {
        "colab": {
          "base_uri": "https://localhost:8080/"
        },
        "id": "c_X7MiP6onwq",
        "outputId": "07609f93-0f14-4d20-c050-9ec2ea257be1"
      },
      "outputs": [
        {
          "output_type": "stream",
          "name": "stdout",
          "text": [
            "1D Massiv:  [1 2 3 4 5]\n",
            "2D Massiv:\n",
            " [[1 2 3]\n",
            " [4 5 6]]\n",
            "Massivlar yig'indisi:  15\n",
            "O'rtacha:  3.0\n",
            "Ko'paytma:  120\n"
          ]
        }
      ],
      "source": [
        "import numpy as np\n",
        "\n",
        "\n",
        "#1. Massiv yaratish\n",
        "#Bu Muhammadqodirning ishi\n",
        "array_1d = np.array([1, 2, 3, 4, 5])\n",
        "array_2d = np.array([[1, 2, 3], [4, 5, 6]])\n",
        "#2. Matematik operatsiyalar\n",
        "sum_array = np.sum(array_1d)\n",
        "mean_array = np.mean(array_1d)\n",
        "product_array = np.prod(array_1d)\n",
        "print(\"1D Massiv: \", array_1d)\n",
        "\n",
        "print(\"2D Massiv:\\n\", array_2d)\n",
        "\n",
        "print(\"Massivlar yig'indisi: \", sum_array)\n",
        "\n",
        "print(\"O'rtacha: \", mean_array)\n",
        "\n",
        "print(\"Ko'paytma: \", product_array)"
      ]
    }
  ]
}